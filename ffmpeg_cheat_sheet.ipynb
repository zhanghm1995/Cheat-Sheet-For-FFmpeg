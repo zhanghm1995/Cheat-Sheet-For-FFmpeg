{
 "cells": [
  {
   "cell_type": "code",
   "execution_count": 2,
   "metadata": {},
   "outputs": [],
   "source": [
    "import subprocess"
   ]
  },
  {
   "cell_type": "markdown",
   "metadata": {},
   "source": [
    "## Extract audio from video"
   ]
  },
  {
   "cell_type": "code",
   "execution_count": 3,
   "metadata": {},
   "outputs": [
    {
     "data": {
      "text/plain": [
       "0"
      ]
     },
     "execution_count": 3,
     "metadata": {},
     "output_type": "execute_result"
    }
   ],
   "source": [
    "output_audio = \"output/audio.wav\"\n",
    "input_video = \"/data/data0/zhanghm/LRS3/trainval/qykSnLkPM7E/50001.mp4\"\n",
    "\n",
    "## Audio will sample to 16000hz\n",
    "command = (\"ffmpeg -y -i %s -qscale:a 0 -ac 1 -vn -threads %d -ar 16000 %s -loglevel panic\" % \\\n",
    "          (input_video, 4, output_audio))\n",
    "\n",
    "## Other command has the same function\n",
    "command = 'ffmpeg -y -i {} -strict -2 {}'.format(input_video, output_audio)\n",
    "\n",
    "subprocess.call(command, shell=True, stdout=None)"
   ]
  },
  {
   "cell_type": "markdown",
   "metadata": {},
   "source": [
    "## Extract all frames from video"
   ]
  },
  {
   "cell_type": "code",
   "execution_count": null,
   "metadata": {},
   "outputs": [],
   "source": []
  },
  {
   "cell_type": "markdown",
   "metadata": {},
   "source": [
    "## Construct video from frames"
   ]
  }
 ],
 "metadata": {
  "interpreter": {
   "hash": "8790370b3aa78d97f83ab24c99b9677d4d378f65cc5e4ef5f6f11730f546e19c"
  },
  "kernelspec": {
   "display_name": "Python 3.6.13 64-bit ('mmlab': conda)",
   "name": "python3"
  },
  "language_info": {
   "codemirror_mode": {
    "name": "ipython",
    "version": 3
   },
   "file_extension": ".py",
   "mimetype": "text/x-python",
   "name": "python",
   "nbconvert_exporter": "python",
   "pygments_lexer": "ipython3",
   "version": "3.6.13"
  },
  "orig_nbformat": 4
 },
 "nbformat": 4,
 "nbformat_minor": 2
}
