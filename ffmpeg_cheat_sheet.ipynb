{
 "cells": [
  {
   "cell_type": "code",
   "execution_count": 2,
   "metadata": {},
   "outputs": [],
   "source": [
    "import subprocess\n",
    "import cv2"
   ]
  },
  {
   "cell_type": "code",
   "execution_count": null,
   "metadata": {},
   "outputs": [],
   "source": [
    "## Get the frame rate of video\n",
    "\n",
    "frame_rate = cv2.VideoCapture()"
   ]
  },
  {
   "cell_type": "markdown",
   "metadata": {},
   "source": [
    "## Extract audio from video"
   ]
  },
  {
   "cell_type": "code",
   "execution_count": 12,
   "metadata": {},
   "outputs": [
    {
     "data": {
      "text/plain": [
       "0"
      ]
     },
     "execution_count": 12,
     "metadata": {},
     "output_type": "execute_result"
    }
   ],
   "source": [
    "\n",
    "input_video = \"/data/data0/zhanghm/LRS3/trainval/qykSnLkPM7E/50001.mp4\"\n",
    "input_video = \"/data/zhanghm/LRS2_dataset/mvlrs_v1/main/5537693749722594824/00001.mp4\"\n",
    "output_audio = \"audio.wav\"\n",
    "\n",
    "## Audio will sample to 16000hz\n",
    "command = (\"ffmpeg -y -i %s -qscale:a 0 -ac 1 -vn -threads %d -ar 16000 %s -loglevel panic\" % \\\n",
    "          (input_video, 4, output_audio))\n",
    "\n",
    "## Other command has the same function, not process the sampe rate\n",
    "command = 'ffmpeg -y -i {} -strict -2 {}'.format(input_video, output_audio)\n",
    "\n",
    "subprocess.call(command, shell=True, stdout=None)\n",
    "\n",
    "## not print output stdout=subprocess.DEVNULL, stderr=subprocess.DEVNULL"
   ]
  },
  {
   "cell_type": "markdown",
   "metadata": {},
   "source": [
    "## Extract all frames from video\n",
    "### With specific start frame number: https://stackoverflow.com/questions/54638458/ffmpeg-sequence-starting-at-frame-1001"
   ]
  },
  {
   "cell_type": "code",
   "execution_count": null,
   "metadata": {},
   "outputs": [],
   "source": []
  },
  {
   "cell_type": "markdown",
   "metadata": {},
   "source": [
    "## Construct video from frames"
   ]
  },
  {
   "cell_type": "markdown",
   "metadata": {},
   "source": [
    "## Reverse a video\n",
    "### Refs: \n",
    "http://dragonquest64.blogspot.com/2019/04/ffmpeg-reverse-video-if-i-could-turn.html\n",
    "https://video.stackexchange.com/questions/29078/how-to-split-reverse-and-concatenate-video-using-single-command-in-ffmpeg\n",
    "https://ottverse.com/reverse-a-video-using-ffmpeg/\n",
    "https://askubuntu.com/questions/737597/how-can-i-use-the-ffmpeg-command-to-reverse-video\n",
    "https://stackoverflow.com/questions/42257354/concat-a-video-with-itself-but-in-reverse-using-ffmpeg\n",
    "https://davidwalsh.name/reverse-video\n",
    "https://github.com/JanisE/video-reverse/blob/master/reverse.sh\n",
    "https://newbedev.com/ffmpeg-reverse-audio-code-example"
   ]
  },
  {
   "cell_type": "code",
   "execution_count": 10,
   "metadata": {},
   "outputs": [
    {
     "name": "stdout",
     "output_type": "stream",
     "text": [
      "ffmpeg -i /data/zhanghm/LRS2_dataset/mvlrs_v1/main/5537693749722594824/00001.mp4 -map 0 -c:v copy -af \"areverse\" output001.mp4\n"
     ]
    },
    {
     "data": {
      "text/plain": [
       "0"
      ]
     },
     "execution_count": 10,
     "metadata": {},
     "output_type": "execute_result"
    }
   ],
   "source": [
    "input_video = \"/data/zhanghm/speech_chinese/210903/210903_181_4.mp4\" \n",
    "input_video = \"/data/zhanghm/LRS2_dataset/mvlrs_v1/main/5536876846942893978/00001.mp4\"\n",
    "input_video = \"/data/zhanghm/LRS2_dataset/mvlrs_v1/main/5537693749722594824/00001.mp4\"\n",
    "output_video = \"output001.mp4\"\n",
    "# command = f'ffmpeg -i {input_video} -filter_complex \"[0:v]reverse,fifo[r];[0:v][0:a][r] [0:a]concat=n=2:v=1:a=1 [v] [a]\" -map \"[v]\" -map \"[a]\" {output_video}'\n",
    "command = f'/bin/ffmpeg -y -i {input_video} -vf reverse -af areverse {output_video}'\n",
    "command = f'ffmpeg -i {input_video} -map 0 -c:v copy -af \"areverse\" {output_video}'\n",
    "print(command)\n",
    "subprocess.call(command, shell=True)"
   ]
  },
  {
   "cell_type": "markdown",
   "metadata": {},
   "source": [
    "## Segment audio"
   ]
  },
  {
   "cell_type": "code",
   "execution_count": 27,
   "metadata": {},
   "outputs": [
    {
     "name": "stdout",
     "output_type": "stream",
     "text": [
      "79.0 25.0\n",
      "3200 <class 'pydub.audio_segment.AudioSegment'>\n",
      "80\n"
     ]
    },
    {
     "data": {
      "text/plain": [
       "<_io.BufferedRandom name='reversed2.wav'>"
      ]
     },
     "execution_count": 27,
     "metadata": {},
     "output_type": "execute_result"
    }
   ],
   "source": [
    "from pydub import AudioSegment\n",
    "input_video = \"/data/zhanghm/LRS2_dataset/mvlrs_v1/main/5537693749722594824/00001.mp4\"\n",
    "cap = cv2.VideoCapture(input_video)\n",
    "length = cap.get(cv2.CAP_PROP_FRAME_COUNT)\n",
    "fps = cap.get(cv2.CAP_PROP_FPS)\n",
    "print(length, fps)\n",
    "audio = AudioSegment.from_file(\"audio.wav\", format=\"wav\")\n",
    "print(len(audio), type(audio))\n",
    "\n",
    "audio_reverse = []\n",
    "\n",
    "for i in range(0, len(audio), 40):\n",
    "    audio_reverse.append(audio[i:i+40])\n",
    "\n",
    "audio_reverse.reverse()\n",
    "print(len(audio_reverse))\n",
    "\n",
    "output_audio = audio_reverse[0]\n",
    "for i in audio_reverse[1:]:\n",
    "    output_audio += i\n",
    "\n",
    "output_audio.export(\"reversed2.wav\", format=\"wav\")\t\n"
   ]
  },
  {
   "cell_type": "code",
   "execution_count": 25,
   "metadata": {},
   "outputs": [
    {
     "name": "stdout",
     "output_type": "stream",
     "text": [
      "[3, 2, 1]\n",
      "0\n",
      "40\n",
      "80\n",
      "120\n",
      "160\n",
      "200\n",
      "240\n",
      "280\n",
      "320\n",
      "360\n",
      "400\n",
      "440\n",
      "480\n",
      "520\n",
      "560\n",
      "600\n",
      "640\n",
      "680\n",
      "720\n",
      "760\n",
      "800\n",
      "840\n",
      "880\n",
      "920\n",
      "960\n",
      "1000\n",
      "1040\n",
      "1080\n",
      "1120\n",
      "1160\n",
      "1200\n",
      "1240\n",
      "1280\n",
      "1320\n",
      "1360\n",
      "1400\n",
      "1440\n",
      "1480\n",
      "1520\n",
      "1560\n",
      "1600\n",
      "1640\n",
      "1680\n",
      "1720\n",
      "1760\n",
      "1800\n",
      "1840\n",
      "1880\n",
      "1920\n",
      "1960\n",
      "2000\n",
      "2040\n",
      "2080\n",
      "2120\n",
      "2160\n",
      "2200\n",
      "2240\n",
      "2280\n",
      "2320\n",
      "2360\n",
      "2400\n",
      "2440\n",
      "2480\n",
      "2520\n",
      "2560\n",
      "2600\n",
      "2640\n",
      "2680\n",
      "2720\n",
      "2760\n",
      "2800\n",
      "2840\n",
      "2880\n",
      "2920\n",
      "2960\n",
      "3000\n",
      "3040\n",
      "3080\n",
      "3120\n",
      "3160\n"
     ]
    }
   ],
   "source": [
    "list_a = [1,2,3]\n",
    "list_a.reverse()\n",
    "print(list_a)"
   ]
  }
 ],
 "metadata": {
  "interpreter": {
   "hash": "a905e65f9d17f2b99942353106a9a9bb4e3ae6eb3c5eda96a0f871aef2e2b8d2"
  },
  "kernelspec": {
   "display_name": "Python 3.6.13 64-bit ('face_python36': conda)",
   "name": "python3"
  },
  "language_info": {
   "codemirror_mode": {
    "name": "ipython",
    "version": 3
   },
   "file_extension": ".py",
   "mimetype": "text/x-python",
   "name": "python",
   "nbconvert_exporter": "python",
   "pygments_lexer": "ipython3",
   "version": "3.6.13"
  },
  "orig_nbformat": 4
 },
 "nbformat": 4,
 "nbformat_minor": 2
}
